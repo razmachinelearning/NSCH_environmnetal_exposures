{
 "cells": [
  {
   "cell_type": "code",
   "execution_count": 46,
   "id": "72cf20af",
   "metadata": {},
   "outputs": [
    {
     "name": "stderr",
     "output_type": "stream",
     "text": [
      "C:\\Users\\rm130166\\AppData\\Local\\Temp\\ipykernel_12232\\3024049993.py:8: DtypeWarning: Columns (88,121,394,397,400,403,406,447) have mixed types. Specify dtype option on import or set low_memory=False.\n",
      "  df = pd.read_csv('NSCH_2021E_TOPICAL.csv')\n"
     ]
    }
   ],
   "source": [
    "import pandas as pd\n",
    "import numpy as np\n",
    "from sklearn.model_selection import train_test_split\n",
    "from sklearn.linear_model import LogisticRegression\n",
    "from sklearn.metrics import accuracy_score, classification_report, confusion_matrix\n",
    "from sklearn.preprocessing import StandardScaler\n",
    "# Load the dataset\n",
    "df = pd.read_csv('NSCH_2021E_TOPICAL.csv')\n",
    "\n",
    "# Specify covariate and dependent variable columns\n",
    "covariates = ['K10Q11', 'K10Q40_R', 'SC_SEX', 'SC_RACE_R', 'TENURE', 'SC_AGE_YEARS']\n",
    "dependents = ['OVERWEIGHT', 'PHYSACTIV', 'K4Q22_R']\n",
    "\n",
    "# Convert the covariate columns to strings to ensure they are treated as categorical\n",
    "df[covariates] = df[covariates].astype(str)\n",
    "\n",
    "# Apply one-hot encoding to covariates\n",
    "df_covariates = pd.get_dummies(df[covariates], drop_first=False)\n",
    "\n",
    "# Extract the dependent variable\n",
    "y = df['OVERWEIGHT']"
   ]
  },
  {
   "cell_type": "code",
   "execution_count": 47,
   "id": "645c21dc",
   "metadata": {},
   "outputs": [],
   "source": [
    "# Standardize the covariates\n",
    "scaler = StandardScaler()\n",
    "X = scaler.fit_transform(df_covariates)\n",
    "# Split the data into training and testing sets\n",
    "X_train, X_test, y_train, y_test = train_test_split(X, y, test_size=0.3, random_state=42)\n",
    "\n"
   ]
  },
  {
   "cell_type": "code",
   "execution_count": 48,
   "id": "b8656b06",
   "metadata": {},
   "outputs": [
    {
     "data": {
      "text/html": [
       "<style>#sk-container-id-2 {color: black;}#sk-container-id-2 pre{padding: 0;}#sk-container-id-2 div.sk-toggleable {background-color: white;}#sk-container-id-2 label.sk-toggleable__label {cursor: pointer;display: block;width: 100%;margin-bottom: 0;padding: 0.3em;box-sizing: border-box;text-align: center;}#sk-container-id-2 label.sk-toggleable__label-arrow:before {content: \"▸\";float: left;margin-right: 0.25em;color: #696969;}#sk-container-id-2 label.sk-toggleable__label-arrow:hover:before {color: black;}#sk-container-id-2 div.sk-estimator:hover label.sk-toggleable__label-arrow:before {color: black;}#sk-container-id-2 div.sk-toggleable__content {max-height: 0;max-width: 0;overflow: hidden;text-align: left;background-color: #f0f8ff;}#sk-container-id-2 div.sk-toggleable__content pre {margin: 0.2em;color: black;border-radius: 0.25em;background-color: #f0f8ff;}#sk-container-id-2 input.sk-toggleable__control:checked~div.sk-toggleable__content {max-height: 200px;max-width: 100%;overflow: auto;}#sk-container-id-2 input.sk-toggleable__control:checked~label.sk-toggleable__label-arrow:before {content: \"▾\";}#sk-container-id-2 div.sk-estimator input.sk-toggleable__control:checked~label.sk-toggleable__label {background-color: #d4ebff;}#sk-container-id-2 div.sk-label input.sk-toggleable__control:checked~label.sk-toggleable__label {background-color: #d4ebff;}#sk-container-id-2 input.sk-hidden--visually {border: 0;clip: rect(1px 1px 1px 1px);clip: rect(1px, 1px, 1px, 1px);height: 1px;margin: -1px;overflow: hidden;padding: 0;position: absolute;width: 1px;}#sk-container-id-2 div.sk-estimator {font-family: monospace;background-color: #f0f8ff;border: 1px dotted black;border-radius: 0.25em;box-sizing: border-box;margin-bottom: 0.5em;}#sk-container-id-2 div.sk-estimator:hover {background-color: #d4ebff;}#sk-container-id-2 div.sk-parallel-item::after {content: \"\";width: 100%;border-bottom: 1px solid gray;flex-grow: 1;}#sk-container-id-2 div.sk-label:hover label.sk-toggleable__label {background-color: #d4ebff;}#sk-container-id-2 div.sk-serial::before {content: \"\";position: absolute;border-left: 1px solid gray;box-sizing: border-box;top: 0;bottom: 0;left: 50%;z-index: 0;}#sk-container-id-2 div.sk-serial {display: flex;flex-direction: column;align-items: center;background-color: white;padding-right: 0.2em;padding-left: 0.2em;position: relative;}#sk-container-id-2 div.sk-item {position: relative;z-index: 1;}#sk-container-id-2 div.sk-parallel {display: flex;align-items: stretch;justify-content: center;background-color: white;position: relative;}#sk-container-id-2 div.sk-item::before, #sk-container-id-2 div.sk-parallel-item::before {content: \"\";position: absolute;border-left: 1px solid gray;box-sizing: border-box;top: 0;bottom: 0;left: 50%;z-index: -1;}#sk-container-id-2 div.sk-parallel-item {display: flex;flex-direction: column;z-index: 1;position: relative;background-color: white;}#sk-container-id-2 div.sk-parallel-item:first-child::after {align-self: flex-end;width: 50%;}#sk-container-id-2 div.sk-parallel-item:last-child::after {align-self: flex-start;width: 50%;}#sk-container-id-2 div.sk-parallel-item:only-child::after {width: 0;}#sk-container-id-2 div.sk-dashed-wrapped {border: 1px dashed gray;margin: 0 0.4em 0.5em 0.4em;box-sizing: border-box;padding-bottom: 0.4em;background-color: white;}#sk-container-id-2 div.sk-label label {font-family: monospace;font-weight: bold;display: inline-block;line-height: 1.2em;}#sk-container-id-2 div.sk-label-container {text-align: center;}#sk-container-id-2 div.sk-container {/* jupyter's `normalize.less` sets `[hidden] { display: none; }` but bootstrap.min.css set `[hidden] { display: none !important; }` so we also need the `!important` here to be able to override the default hidden behavior on the sphinx rendered scikit-learn.org. See: https://github.com/scikit-learn/scikit-learn/issues/21755 */display: inline-block !important;position: relative;}#sk-container-id-2 div.sk-text-repr-fallback {display: none;}</style><div id=\"sk-container-id-2\" class=\"sk-top-container\"><div class=\"sk-text-repr-fallback\"><pre>LogisticRegression(max_iter=1000)</pre><b>In a Jupyter environment, please rerun this cell to show the HTML representation or trust the notebook. <br />On GitHub, the HTML representation is unable to render, please try loading this page with nbviewer.org.</b></div><div class=\"sk-container\" hidden><div class=\"sk-item\"><div class=\"sk-estimator sk-toggleable\"><input class=\"sk-toggleable__control sk-hidden--visually\" id=\"sk-estimator-id-2\" type=\"checkbox\" checked><label for=\"sk-estimator-id-2\" class=\"sk-toggleable__label sk-toggleable__label-arrow\">LogisticRegression</label><div class=\"sk-toggleable__content\"><pre>LogisticRegression(max_iter=1000)</pre></div></div></div></div></div>"
      ],
      "text/plain": [
       "LogisticRegression(max_iter=1000)"
      ]
     },
     "execution_count": 48,
     "metadata": {},
     "output_type": "execute_result"
    }
   ],
   "source": [
    "# Initialize the logistic regression model with Ridge regularization (L2 penalty)\n",
    "log_reg_ridge = LogisticRegression(penalty='l2', C=1.0, max_iter=1000)\n",
    "\n",
    "# Fit the model on the training data\n",
    "log_reg_ridge.fit(X_train, y_train)"
   ]
  },
  {
   "cell_type": "code",
   "execution_count": 49,
   "id": "eafb8252",
   "metadata": {
    "scrolled": true
   },
   "outputs": [
    {
     "name": "stdout",
     "output_type": "stream",
     "text": [
      "Accuracy: 0.9355514802200681\n"
     ]
    },
    {
     "name": "stderr",
     "output_type": "stream",
     "text": [
      "C:\\Users\\rm130166\\AppData\\Local\\anaconda3\\Lib\\site-packages\\sklearn\\metrics\\_classification.py:1469: UndefinedMetricWarning: Precision and F-score are ill-defined and being set to 0.0 in labels with no predicted samples. Use `zero_division` parameter to control this behavior.\n",
      "  _warn_prf(average, modifier, msg_start, len(result))\n",
      "C:\\Users\\rm130166\\AppData\\Local\\anaconda3\\Lib\\site-packages\\sklearn\\metrics\\_classification.py:1469: UndefinedMetricWarning: Precision and F-score are ill-defined and being set to 0.0 in labels with no predicted samples. Use `zero_division` parameter to control this behavior.\n",
      "  _warn_prf(average, modifier, msg_start, len(result))\n"
     ]
    },
    {
     "name": "stdout",
     "output_type": "stream",
     "text": [
      "Classification Report:\n",
      "               precision    recall  f1-score   support\n",
      "\n",
      "           1       0.00      0.00      0.00       906\n",
      "           2       0.94      1.00      0.97     14284\n",
      "           M       0.00      0.00      0.00        78\n",
      "\n",
      "    accuracy                           0.94     15268\n",
      "   macro avg       0.31      0.33      0.32     15268\n",
      "weighted avg       0.88      0.94      0.90     15268\n",
      "\n",
      "Confusion Matrix:\n",
      " [[    0   906     0]\n",
      " [    0 14284     0]\n",
      " [    0    78     0]]\n"
     ]
    },
    {
     "name": "stderr",
     "output_type": "stream",
     "text": [
      "C:\\Users\\rm130166\\AppData\\Local\\anaconda3\\Lib\\site-packages\\sklearn\\metrics\\_classification.py:1469: UndefinedMetricWarning: Precision and F-score are ill-defined and being set to 0.0 in labels with no predicted samples. Use `zero_division` parameter to control this behavior.\n",
      "  _warn_prf(average, modifier, msg_start, len(result))\n"
     ]
    }
   ],
   "source": [
    "# Make predictions on the test data\n",
    "y_pred = log_reg_ridge.predict(X_test)\n",
    "# Evaluate the model\n",
    "print(\"Accuracy:\", accuracy_score(y_test, y_pred))\n",
    "print(\"Classification Report:\\n\", classification_report(y_test, y_pred))\n",
    "print(\"Confusion Matrix:\\n\", confusion_matrix(y_test, y_pred))\n"
   ]
  },
  {
   "cell_type": "code",
   "execution_count": 50,
   "id": "611d2dfa",
   "metadata": {},
   "outputs": [
    {
     "name": "stdout",
     "output_type": "stream",
     "text": [
      "\n",
      "Coefficients and Odds Ratios:\n",
      "             Feature  Coefficient  Odds Ratio\n",
      "0          K10Q11_1    -0.002016    0.997986\n",
      "1          K10Q11_2     0.036307    1.036974\n",
      "2          K10Q11_M    -0.091999    0.912106\n",
      "3        K10Q40_R_1    -0.031942    0.968562\n",
      "4        K10Q40_R_2     0.038866    1.039631\n",
      "5        K10Q40_R_3     0.041763    1.042647\n",
      "6        K10Q40_R_4     0.013930    1.014027\n",
      "7        K10Q40_R_M    -0.058179    0.943481\n",
      "8          SC_SEX_1     0.019274    1.019461\n",
      "9          SC_SEX_2    -0.019274    0.980911\n",
      "10      SC_RACE_R_1    -0.012955    0.987129\n",
      "11      SC_RACE_R_2     0.024773    1.025083\n",
      "12      SC_RACE_R_3     0.028888    1.029309\n",
      "13      SC_RACE_R_4    -0.046800    0.954278\n",
      "14      SC_RACE_R_5     0.001974    1.001976\n",
      "15      SC_RACE_R_7     0.025475    1.025803\n",
      "16         TENURE_1    -0.036539    0.964120\n",
      "17         TENURE_2     0.016481    1.016618\n",
      "18         TENURE_3     0.026010    1.026352\n",
      "19         TENURE_4     0.017727    1.017885\n",
      "20   SC_AGE_YEARS_0    -0.169640    0.843968\n",
      "21   SC_AGE_YEARS_1    -0.230298    0.794297\n",
      "22  SC_AGE_YEARS_10     0.092267    1.096657\n",
      "23  SC_AGE_YEARS_11     0.090727    1.094970\n",
      "24  SC_AGE_YEARS_12     0.143517    1.154327\n",
      "25  SC_AGE_YEARS_13     0.106538    1.112420\n",
      "26  SC_AGE_YEARS_14     0.127164    1.135603\n",
      "27  SC_AGE_YEARS_15     0.099876    1.105034\n",
      "28  SC_AGE_YEARS_16     0.131108    1.140091\n",
      "29  SC_AGE_YEARS_17     0.163840    1.178025\n",
      "30   SC_AGE_YEARS_2    -0.204110    0.815372\n",
      "31   SC_AGE_YEARS_3    -0.124141    0.883256\n",
      "32   SC_AGE_YEARS_4    -0.124947    0.882544\n",
      "33   SC_AGE_YEARS_5    -0.049644    0.951568\n",
      "34   SC_AGE_YEARS_6    -0.015899    0.984226\n",
      "35   SC_AGE_YEARS_7     0.004470    1.004480\n",
      "36   SC_AGE_YEARS_8     0.023444    1.023721\n",
      "37   SC_AGE_YEARS_9     0.029396    1.029833\n"
     ]
    }
   ],
   "source": [
    "# Extract the coefficients of the model\n",
    "coefficients = log_reg_ridge.coef_[0]\n",
    "\n",
    "# Create a DataFrame to hold the feature names and their corresponding coefficients\n",
    "coefficients_df = pd.DataFrame({\n",
    "    'Feature': df_covariates.columns,\n",
    "    'Coefficient': coefficients\n",
    "})\n",
    "\n",
    "# Calculate the odds ratios\n",
    "coefficients_df['Odds Ratio'] = np.exp(coefficients_df['Coefficient'])\n",
    "\n",
    "# Print the coefficients and odds ratios\n",
    "print(\"\\nCoefficients and Odds Ratios:\\n\", coefficients_df)\n"
   ]
  },
  {
   "cell_type": "code",
   "execution_count": 51,
   "id": "63564783",
   "metadata": {
    "scrolled": true
   },
   "outputs": [
    {
     "name": "stdout",
     "output_type": "stream",
     "text": [
      "95% CIs:             Feature  95% CI Lower  95% CI Upper\n",
      "0          K10Q11_1      0.837806      1.188790\n",
      "1          K10Q11_2      0.870537      1.235233\n",
      "2          K10Q11_M      0.765710      1.086490\n",
      "3        K10Q40_R_1      0.813105      1.153741\n",
      "4        K10Q40_R_2      0.872767      1.238397\n",
      "5        K10Q40_R_3      0.875299      1.241990\n",
      "6        K10Q40_R_4      0.851273      1.207899\n",
      "7        K10Q40_R_M      0.792049      1.123864\n",
      "8          SC_SEX_1      0.855835      1.214371\n",
      "9          SC_SEX_2      0.823472      1.168450\n",
      "10      SC_RACE_R_1      0.828692      1.175857\n",
      "11      SC_RACE_R_2      0.860554      1.221068\n",
      "12      SC_RACE_R_3      0.864102      1.226102\n",
      "13      SC_RACE_R_4      0.801114      1.136726\n",
      "14      SC_RACE_R_5      0.841156      1.193543\n",
      "15      SC_RACE_R_7      0.861158      1.221925\n",
      "16         TENURE_1      0.809376      1.148449\n",
      "17         TENURE_2      0.853448      1.210984\n",
      "18         TENURE_3      0.861619      1.222579\n",
      "19         TENURE_4      0.854512      1.212493\n",
      "20   SC_AGE_YEARS_0      0.708509      1.005326\n",
      "21   SC_AGE_YEARS_1      0.666810      0.946158\n",
      "22  SC_AGE_YEARS_10      0.920641      1.306326\n",
      "23  SC_AGE_YEARS_11      0.919224      1.304317\n",
      "24  SC_AGE_YEARS_12      0.969054      1.375022\n",
      "25  SC_AGE_YEARS_13      0.933874      1.325103\n",
      "26  SC_AGE_YEARS_14      0.953335      1.352718\n",
      "27  SC_AGE_YEARS_15      0.927673      1.316304\n",
      "28  SC_AGE_YEARS_16      0.957103      1.358064\n",
      "29  SC_AGE_YEARS_17      0.988949      1.403251\n",
      "30   SC_AGE_YEARS_2      0.684503      0.971263\n",
      "31   SC_AGE_YEARS_3      0.741491      1.052124\n",
      "32   SC_AGE_YEARS_4      0.740893      1.051277\n",
      "33   SC_AGE_YEARS_5      0.798839      1.133498\n",
      "34   SC_AGE_YEARS_6      0.826255      1.172400\n",
      "35   SC_AGE_YEARS_7      0.843258      1.196526\n",
      "36   SC_AGE_YEARS_8      0.859411      1.219445\n",
      "37   SC_AGE_YEARS_9      0.864542      1.226725\n"
     ]
    }
   ],
   "source": [
    "print(\"95% CIs:\", pd.DataFrame({'Feature': df_covariates.columns, '95% CI Lower': np.exp(coefficients - 1.96 * np.std(coefficients)), '95% CI Upper': np.exp(coefficients + 1.96 * np.std(coefficients))}))\n"
   ]
  }
 ],
 "metadata": {
  "kernelspec": {
   "display_name": "Python 3 (ipykernel)",
   "language": "python",
   "name": "python3"
  },
  "language_info": {
   "codemirror_mode": {
    "name": "ipython",
    "version": 3
   },
   "file_extension": ".py",
   "mimetype": "text/x-python",
   "name": "python",
   "nbconvert_exporter": "python",
   "pygments_lexer": "ipython3",
   "version": "3.11.4"
  }
 },
 "nbformat": 4,
 "nbformat_minor": 5
}
